{
 "cells": [
  {
   "cell_type": "markdown",
   "metadata": {},
   "source": [
    "Блінда Ірина"
   ]
  },
  {
   "cell_type": "markdown",
   "metadata": {},
   "source": [
    "Практична робота №10"
   ]
  },
  {
   "cell_type": "code",
   "execution_count": null,
   "id": "24be5df5",
   "metadata": {},
   "outputs": [],
   "source": [
    "# Імпорт необхідних бібліотек\n",
    "import numpy as np\n",
    "import matplotlib.pyplot as plt\n",
    "from tensorflow import keras\n",
    "from tensorflow.keras import layers\n",
    "from tensorflow.keras.utils import to_categorical"
   ]
  },
  {
   "cell_type": "code",
   "execution_count": null,
   "id": "6942fd21",
   "metadata": {},
   "outputs": [],
   "source": [
    "# Завантаження та розділення датасету\n",
    "(x_train, y_train), (x_test, y_test) = keras.datasets.cifar10.load_data()\n",
    "\n",
    "print(\"x_train original shape\", x_train.shape)\n",
    "print(\"y_train original shape\", y_train.shape)\n",
    "\n",
    "y_train = y_train.flatten()\n",
    "\n",
    "\n",
    "classes = ['літак', 'автомобіль', 'птах', 'кіт', 'пальто', 'собака', 'жаба', 'кінь', 'корабель', 'вантажівка']\n",
    "\n",
    "plt.figure(figsize=(10,10))\n",
    "for i in range(100,150):\n",
    "    plt.subplot(5,10,i-100+1)\n",
    "    plt.xticks([])\n",
    "    plt.yticks([])\n",
    "    plt.grid(False)\n",
    "    plt.imshow(x_train[i], cmap=plt.cm.binary)\n",
    "    plt.xlabel(classes[y_train[i]])\n",
    "\n"
   ]
  },
  {
   "cell_type": "code",
   "execution_count": null,
   "id": "1bf26369",
   "metadata": {},
   "outputs": [],
   "source": [
    "# Нормалізація даних\n",
    "x_train = x_train.astype(\"float32\") / 255.0\n",
    "x_test = x_test.astype(\"float32\") / 255.0\n",
    "\n",
    "# Перетворення міток в категоріальні дані\n",
    "y_train = to_categorical(y_train, 10)\n",
    "y_test = to_categorical(y_test, 10)"
   ]
  },
  {
   "cell_type": "code",
   "execution_count": null,
   "id": "b7c09354",
   "metadata": {},
   "outputs": [],
   "source": [
    "# Будівництво моделі\n",
    "model = keras.Sequential([\n",
    "    layers.Flatten(input_shape=(32, 32, 3)),  # Плоский шар для згладжування зображення\n",
    "    layers.Dense(128, activation=\"relu\"),   # Повністю з'єднаний шар з 128 вузлами\n",
    "    layers.Dense(64, activation=\"relu\"),    # Повністю з'єднаний шар з 64 вузлами\n",
    "    layers.Dense(32, activation=\"relu\"),    # Повністю з'єднаний шар з 32 вузлами\n",
    "    layers.Dense(10, activation=\"softmax\")  # Вихідний шар з 10 вузлами та функцією активації softmax\n",
    "])\n",
    "\n",
    "# Компіляція моделі\n",
    "model.compile(optimizer=\"adam\", loss=\"categorical_crossentropy\", metrics=[\"accuracy\"])\n",
    "\n",
    "# Виведення інформації про модель\n",
    "model.summary()\n",
    "\n",
    "# Тренування моделі\n",
    "history = model.fit(x_train, y_train, epochs=10, batch_size=32, validation_split=0.2)\n",
    "\n"
   ]
  },
  {
   "cell_type": "code",
   "execution_count": null,
   "id": "277bc890",
   "metadata": {},
   "outputs": [],
   "source": [
    "# Виведення графіків функції втрат та точності\n",
    "plt.plot(history.history['loss'], label='Training Loss')\n",
    "plt.plot(history.history['val_loss'], label='Validation Loss')\n",
    "plt.xlabel('Epoch')\n",
    "plt.ylabel('Loss')\n",
    "plt.title(\"Графік функції втрат\")\n",
    "plt.legend()\n",
    "plt.grid()\n",
    "plt.show()\n",
    "\n",
    "plt.plot(history.history['accuracy'], label='Training Accuracy')\n",
    "plt.plot(history.history['val_accuracy'], label='Validation Accuracy')\n",
    "plt.xlabel('Epoch')\n",
    "plt.ylabel('Accuracy')\n",
    "plt.title(\"Графік точності\")\n",
    "plt.grid()\n",
    "plt.legend()\n",
    "plt.show()\n",
    "\n"
   ]
  },
  {
   "cell_type": "code",
   "execution_count": null,
   "id": "425390d0",
   "metadata": {},
   "outputs": [],
   "source": [
    "from keras.utils import to_categorical\n",
    "\n",
    "# Оцінка точності на тестовому наборі\n",
    "# x_test_flat = x_test.reshape((x_test.shape[0], -1))\n",
    "test_loss, test_accuracy = model.evaluate(x_test_flat, y_test, batch_size=32, verbose=2)\n",
    "print(f\"\\nTest Accuracy: {test_accuracy*100:.2f}%\")\n",
    "\n",
    "# Розпізнавання 10 випадкових зображень\n",
    "random_indices = np.random.choice(x_test.shape[0], 10, replace=False)\n",
    "random_images = x_test[random_indices]\n",
    "predictions = model.predict(random_images)\n",
    "\n",
    "# Виведення результатів розпізнавання\n",
    "for i in range(10):\n",
    "    predicted_class = np.argmax(predictions[i])\n",
    "    true_class = np.argmax(y_test[random_indices[i]])\n",
    "    print(f\"Image {i + 1}: Predicted Class {predicted_class}, True Class {true_class}\")\n",
    "\n",
    "# Виведення зображень для перевірки\n",
    "plt.figure(figsize=(10, 5))\n",
    "for i in range(10):\n",
    "    plt.subplot(2, 5, i + 1)\n",
    "    plt.imshow(random_images[i], cmap='gray')\n",
    "    plt.title(f\"True: {true_class}, Predicted: {predicted_class}\")\n",
    "    plt.axis('off')\n",
    "plt.show()"
   ]
  },
  {
   "cell_type": "code",
   "execution_count": null,
   "id": "9cfcd32c",
   "metadata": {},
   "outputs": [],
   "source": [
    "# Виведення статистики моделі\n",
    "print(\"\\nModel Evaluation:\")\n",
    "print(f\"Test Loss: {test_loss:.4f}\")\n",
    "print(f\"Test Accuracy: {test_accuracy*100:.2f}%\")\n",
    "\n",
    "# Статистика параметрів моделі\n",
    "total_parameters = sum([np.prod(layer.get_weights()[i].shape) for layer in model.layers for i in range(len(layer.get_weights()))])\n",
    "\n",
    "print(f\"\\nTotal Parameters: {total_parameters}\")\n",
    "\n",
    "# Статистика шарів моделі\n",
    "for i, layer in enumerate(model.layers):\n",
    "    print(f\"\\nLayer {i + 1}: {layer.name}\")\n",
    "    print(f\"Number of Parameters: {layer.count_params()}\")\n",
    "    print(f\"Input Shape: {layer.input_shape}, Output Shape: {layer.output_shape}\")\n"
   ]
  },
  {
   "cell_type": "markdown",
   "id": "f2ea7120-6043-4626-90c3-4d702b35446b",
   "metadata": {},
   "source": [
    "Висновок:\n",
    "\n",
    "У цій роботі було виконано кілька важливих етапів у процесі навчання нейронної мережі на датасеті CIFAR-10 за допомогою бібліотеки Keras.\n",
    "\n",
    "Підготовка Датасету:\n",
    "Датасет CIFAR-10 був завантажений і розділений на тренувальний та тестовий набори, щоб забезпечити об'єктивну оцінку моделі. Дані були нормалізовані для поліпшення швидкості та ефективності тренування мережі.\n",
    "\n",
    "Будівництво Моделі:\n",
    "Створено нейронну мережу з чотирма повністю з'єднаними шарами. Встановлені відповідні кількості вузлів та функції активації. Обрані функція втрат та оптимізатор для тренування, і проведено оптимізацію кількості епох для уникнення перенавчання.\n",
    "\n",
    "Тренування Моделі:\n",
    "Модель була тренована на тренувальному наборі, а результати відображені на графіках функції втрат та точності відносно епох тренування.\n",
    "\n",
    "Оцінка Точності:\n",
    "Модель була оцінена на тестовому наборі для визначення її загальної ефективності.\n",
    "\n",
    "Розпізнавання Зображень:\n",
    "Вибрано 10 випадкових зображень з тестового набору, і модель використано для їх класифікації. Спрогнозовані класи порівняно із справжніми класами для визначення точності класифікації.\n",
    "\n",
    "Статистика:\n",
    "Виведена статистика моделі, що дозволяє зрозуміти її продуктивність та можливі області покращення.\n",
    "\n",
    "Висновки:\n",
    "Результати тренування та оцінки моделі свідчать про її здатність класифікувати зображення на досить високому рівні точності. Проте, є можливості для поліпшення, такі як оптимізація гіперпараметрів, використання більш складних архітектур, або додавання регуляризації для запобігання перенавчанню.\n",
    "\n",
    "Додаткові Умови:\n",
    "У виконанні роботи було дотримано усіх вимог, зокрема, не використовувалися згорткові шари у моделі, а бібліотека Keras використовувалася для побудови та тренування моделі. Документація коду та коментарі були надані для кращого розуміння логіки роботи."
   ]
  },
  {
   "cell_type": "markdown",
   "metadata": {},
   "source": [
    "https://github.com/irynablinda1/machine_learning_1"
   ]
  }
 ],
 "metadata": {
  "kernelspec": {
   "display_name": "Python 3 (ipykernel)",
   "language": "python",
   "name": "python3"
  },
  "language_info": {
   "codemirror_mode": {
    "name": "ipython",
    "version": 3
   },
   "file_extension": ".py",
   "mimetype": "text/x-python",
   "name": "python",
   "nbconvert_exporter": "python",
   "pygments_lexer": "ipython3",
   "version": "3.11.4"
  }
 },
 "nbformat": 4,
 "nbformat_minor": 5
}
