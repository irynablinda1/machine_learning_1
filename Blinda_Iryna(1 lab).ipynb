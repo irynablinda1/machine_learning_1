{
 "cells": [
  {
   "cell_type": "markdown",
   "metadata": {},
   "source": [
    "Блінда Ірина"
   ]
  },
  {
   "cell_type": "markdown",
   "metadata": {},
   "source": [
    "Практична робота №1. Варіант 4"
   ]
  },
  {
   "cell_type": "markdown",
   "metadata": {},
   "source": [
    "Завдання 1.\n",
    "Створіть одновимірний масив (вектор) з непарними числами від 1 до 19 та виведіть його значення."
   ]
  },
  {
   "cell_type": "code",
   "execution_count": null,
   "metadata": {},
   "outputs": [],
   "source": [
    "import numpy as np\n",
    "\n",
    "# Створюємо вектор з непарними числами\n",
    "vector = np.arange(1, 20, 2)\n",
    "\n",
    "# Виводимо вектор\n",
    "print(vector)"
   ]
  },
  {
   "cell_type": "markdown",
   "metadata": {},
   "source": [
    "Завдання 2. Створіть двовимірний масив (матрицю) розміром 3x3, заповніть його послідовністю чисел, де кожне наступне число більше попереднього на 2, та виведіть його значення. "
   ]
  },
  {
   "cell_type": "code",
   "execution_count": null,
   "metadata": {},
   "outputs": [],
   "source": [
    "import numpy as np\n",
    "\n",
    "# Створюємо матрицю 3x3\n",
    "matrix = np.array([[1, 3, 5],\n",
    "                  [7, 9, 11],\n",
    "                  [13, 15, 17]])\n",
    "\n",
    "# Виводимо матрицю\n",
    "print(matrix)"
   ]
  },
  {
   "cell_type": "markdown",
   "metadata": {},
   "source": [
    "Завдання 3. Створіть масив розміром 7x7, заповніть його випадковими цілими числами від -5 до 5 та виведіть його значення. "
   ]
  },
  {
   "cell_type": "code",
   "execution_count": null,
   "metadata": {},
   "outputs": [],
   "source": [
    "import numpy as np\n",
    "\n",
    "# Генеруємо масив розміром 7x7 з випадковими цілими числами від -5 до 5\n",
    "random_array = np.random.randint(-5, 6, size=(7, 7))\n",
    "\n",
    "# Виводимо масив\n",
    "print(random_array)"
   ]
  },
  {
   "cell_type": "markdown",
   "metadata": {},
   "source": [
    "Завдання 4. Створіть масив розміром 6x6, заповніть його випадковими дійсними числами в діапазоні від 0 до 1 та знайдіть максимальний елемент. "
   ]
  },
  {
   "cell_type": "code",
   "execution_count": null,
   "metadata": {},
   "outputs": [],
   "source": [
    "import numpy as np\n",
    "\n",
    "# Генеруємо масив розміром 6x6 з випадковими дійсними числами в діапазоні від 0 до 1\n",
    "random_array = np.random.rand(6, 6)\n",
    "\n",
    "# Знаходимо максимальний елемент в масиві\n",
    "max_element = np.max(random_array)\n",
    "\n",
    "# Виводимо масив та максимальний елемент\n",
    "print(\"Масив:\")\n",
    "print(random_array)\n",
    "print(\"\\nМаксимальний елемент:\", max_element)"
   ]
  },
  {
   "cell_type": "markdown",
   "metadata": {},
   "source": [
    "Завдання 5. Створіть два одновимірних масиви розміром 4, заповніть їх випадковими цілими числами в діапазоні від -5 до 5 та виконайте на них поелементні операції додавання, віднімання та множення. "
   ]
  },
  {
   "cell_type": "code",
   "execution_count": null,
   "metadata": {},
   "outputs": [],
   "source": [
    "import numpy as np\n",
    "\n",
    "# Генеруємо два масиви розміром 4 з випадковими цілими числами від -5 до 5\n",
    "array1 = np.random.randint(-5, 6, size=4)\n",
    "array2 = np.random.randint(-5, 6, size=4)\n",
    "\n",
    "# Виводимо обидва масиви\n",
    "print(\"Перший масив:\", array1)\n",
    "print(\"Другий масив:\", array2)\n",
    "\n",
    "# Виконуємо поелементне додавання, віднімання та множення\n",
    "addition_result = array1 + array2\n",
    "subtraction_result = array1 - array2\n",
    "multiplication_result = array1 * array2\n",
    "\n",
    "# Виводимо результати операцій\n",
    "print(\"\\nРезультат додавання:\", addition_result)\n",
    "print(\"Результат віднімання:\", subtraction_result)\n",
    "print(\"Результат множення:\", multiplication_result)"
   ]
  },
  {
   "cell_type": "markdown",
   "metadata": {},
   "source": [
    "Завдання 6. Створіть два вектори розміром 4, заповніть їх довільними дійсними числами та знайдіть їх скалярний добуток. "
   ]
  },
  {
   "cell_type": "code",
   "execution_count": null,
   "metadata": {},
   "outputs": [],
   "source": [
    "import numpy as np\n",
    "\n",
    "# Створюємо два вектори розміром 4 з довільними дійсними числами\n",
    "vector1 = np.array([1.2, 2.4, 3.6, 4.8])\n",
    "vector2 = np.array([0.5, 1.0, 1.5, 2.0])\n",
    "\n",
    "# Знаходимо скалярний добуток векторів\n",
    "scalar_product = np.dot(vector1, vector2)\n",
    "\n",
    "# Виводимо вектори та скалярний добуток\n",
    "print(\"Перший вектор:\", vector1)\n",
    "print(\"Другий вектор:\", vector2)\n",
    "print(\"\\nСкалярний добуток:\", scalar_product)"
   ]
  },
  {
   "cell_type": "markdown",
   "metadata": {},
   "source": [
    "Завдання 7. Створіть дві матриці розміром 2x3 та 3x3, заповніть їх випадковими цілими числами в діапазоні від 1 до 10 та перемножте їх між собою. "
   ]
  },
  {
   "cell_type": "code",
   "execution_count": null,
   "metadata": {},
   "outputs": [],
   "source": [
    "import numpy as np\n",
    "\n",
    "# Створюємо дві матриці 2x3 та 3x3 з випадковими цілими числами в діапазоні від 1 до 10\n",
    "matrix1 = np.random.randint(1, 11, size=(2, 3))\n",
    "matrix2 = np.random.randint(1, 11, size=(3, 3))\n",
    "\n",
    "# Виводимо обидві матриці\n",
    "print(\"Перша матриця:\")\n",
    "print(matrix1)\n",
    "print(\"\\nДруга матриця:\")\n",
    "print(matrix2)\n",
    "\n",
    "# Перемножаємо матриці\n",
    "result_matrix = np.dot(matrix1, matrix2)\n",
    "\n",
    "# Виводимо результат перемноження\n",
    "print(\"\\nРезультат перемноження:\")\n",
    "print(result_matrix)"
   ]
  },
  {
   "cell_type": "markdown",
   "metadata": {},
   "source": [
    "Завдання 8. Створіть матрицю розміром 3x3, заповніть її випадковими цілими числами в діапазоні від 1 до 15 та знайдіть її обернену матрицю. "
   ]
  },
  {
   "cell_type": "code",
   "execution_count": null,
   "metadata": {},
   "outputs": [],
   "source": [
    "import numpy as np\n",
    "\n",
    "# Створюємо матрицю 3x3 з випадковими цілими числами в діапазоні від 1 до 15\n",
    "matrix = np.random.randint(1, 16, size=(3, 3))\n",
    "\n",
    "# Виводимо початкову матрицю\n",
    "print(\"Початкова матриця:\")\n",
    "print(matrix)\n",
    "\n",
    "# Знаходимо обернену матрицю (якщо можливо)\n",
    "try:\n",
    "    inverse_matrix = np.linalg.inv(matrix)\n",
    "    print(\"\\nОбернена матриця:\")\n",
    "    print(inverse_matrix)\n",
    "except np.linalg.LinAlgError:\n",
    "    print(\"\\nОбернена матриця не існує, оскільки вихідна матриця не є оборотною.\")"
   ]
  },
  {
   "cell_type": "markdown",
   "metadata": {},
   "source": [
    "Завдання 9. Створіть матрицю розміром 7x4, заповніть її випадковими дійсними числами в діапазоні від 0 до 1 та транспонуйте її. "
   ]
  },
  {
   "cell_type": "code",
   "execution_count": null,
   "metadata": {},
   "outputs": [],
   "source": [
    "import numpy as np\n",
    "\n",
    "# Створюємо матрицю 7x4 з випадковими дійсними числами в діапазоні від 0 до 1\n",
    "matrix = np.random.rand(7, 4)\n",
    "\n",
    "# Виводимо початкову матрицю\n",
    "print(\"Початкова матриця:\")\n",
    "print(matrix)\n",
    "\n",
    "# Транспонуємо матрицю\n",
    "transposed_matrix = np.transpose(matrix)\n",
    "\n",
    "# Виводимо транспоновану матрицю\n",
    "print(\"\\nТранспонована матриця:\")\n",
    "print(transposed_matrix)"
   ]
  },
  {
   "cell_type": "markdown",
   "metadata": {},
   "source": [
    "Завдання 10. Створіть матрицю розміром 3x4 та вектор розміром 4, заповніть матрицю випадковими цілими числами в діапазоні від 1 до 10, а вектор - випадковими дійсними числами від 0 до 1, і знайдіть добуток матриці на вектор. "
   ]
  },
  {
   "cell_type": "code",
   "execution_count": null,
   "metadata": {},
   "outputs": [],
   "source": [
    "import numpy as np\n",
    "\n",
    "# Створюємо матрицю 3x4 з випадковими цілими числами від 1 до 10\n",
    "matrix = np.random.randint(1, 11, size=(3, 4))\n",
    "\n",
    "# Виводимо початкову матрицю\n",
    "print(\"Початкова матриця:\")\n",
    "print(matrix)\n",
    "\n",
    "# Створюємо вектор розміром 4 з випадковими дійсними числами від 0 до 1\n",
    "vector = np.random.rand(4)\n",
    "\n",
    "# Виводимо початковий вектор\n",
    "print(\"\\nПочатковий вектор:\")\n",
    "print(vector)\n",
    "\n",
    "# Знаходимо добуток матриці на вектор\n",
    "result = np.dot(matrix, vector)\n",
    "\n",
    "# Виводимо результат добутку\n",
    "print(\"\\nРезультат добутку матриці на вектор:\")\n",
    "print(result)"
   ]
  },
  {
   "cell_type": "markdown",
   "metadata": {},
   "source": [
    "Завдання 11. Створіть матрицю розміром 2x3 та вектор розміром 3, заповніть матрицю випадковими дійсними числами від 0 до 1, а вектор - випадковими дійсними числами від 0 до 1, і знайдіть добуток матриці на вектор. "
   ]
  },
  {
   "cell_type": "code",
   "execution_count": null,
   "metadata": {},
   "outputs": [],
   "source": [
    "import numpy as np\n",
    "\n",
    "# Створюємо матрицю 2x3 з випадковими дійсними числами від 0 до 1\n",
    "matrix = np.random.rand(2, 3)\n",
    "\n",
    "# Виводимо початкову матрицю\n",
    "print(\"Початкова матриця:\")\n",
    "print(matrix)\n",
    "\n",
    "# Створюємо вектор розміром 3 з випадковими дійсними числами від 0 до 1\n",
    "vector = np.random.rand(3)\n",
    "\n",
    "# Виводимо початковий вектор\n",
    "print(\"\\nПочатковий вектор:\")\n",
    "print(vector)\n",
    "\n",
    "# Знаходимо добуток матриці на вектор\n",
    "result = np.dot(matrix, vector)\n",
    "\n",
    "# Виводимо результат добутку\n",
    "print(\"\\nРезультат добутку матриці на вектор:\")\n",
    "print(result)"
   ]
  },
  {
   "cell_type": "markdown",
   "metadata": {},
   "source": [
    "Завдання 12. Створіть дві матриці розміром 5x5, заповніть їх випадковими цілими числами в діапазоні від 1 до 10 та знайдіть відношення першої матриці до другої (поелементне ділення). "
   ]
  },
  {
   "cell_type": "code",
   "execution_count": null,
   "metadata": {},
   "outputs": [],
   "source": [
    "import numpy as np\n",
    "\n",
    "# Створюємо дві матриці 5x5 з випадковими цілими числами від 1 до 10\n",
    "matrix1 = np.random.randint(1, 11, size=(5, 5))\n",
    "matrix2 = np.random.randint(1, 11, size=(5, 5))\n",
    "\n",
    "# Виводимо обидві матриці\n",
    "print(\"Перша матриця:\")\n",
    "print(matrix1)\n",
    "print(\"\\nДруга матриця:\")\n",
    "print(matrix2)\n",
    "\n",
    "# Знаходимо відношення першої матриці до другої (поелементне ділення)\n",
    "result_matrix = matrix1 / matrix2\n",
    "\n",
    "# Виводимо результат поелементного ділення\n",
    "print(\"\\nРезультат відношення матриць:\")\n",
    "print(result_matrix)"
   ]
  },
  {
   "cell_type": "markdown",
   "metadata": {},
   "source": [
    "Завдання 13. Створіть дві матриці розміром 5x5, заповніть їх випадковими цілими числами в діапазоні від 1 до 10 та знайдіть суму їх елементів. "
   ]
  },
  {
   "cell_type": "code",
   "execution_count": null,
   "metadata": {},
   "outputs": [],
   "source": [
    "import numpy as np\n",
    "\n",
    "# Створюємо дві матриці 5x5 з випадковими цілими числами від 1 до 10\n",
    "matrix1 = np.random.randint(1, 11, size=(5, 5))\n",
    "matrix2 = np.random.randint(1, 11, size=(5, 5))\n",
    "\n",
    "# Виводимо обидві матриці\n",
    "print(\"Перша матриця:\")\n",
    "print(matrix1)\n",
    "print(\"\\nДруга матриця:\")\n",
    "print(matrix2)\n",
    "\n",
    "# Знаходимо суму елементів обох матриць\n",
    "sum_matrix = matrix1 + matrix2\n",
    "\n",
    "# Виводимо результат сумування\n",
    "print(\"\\nСума елементів матриць:\")\n",
    "print(sum_matrix)\n",
    "\n",
    "# Знаходимо загальну суму всіх елементів матриць\n",
    "total_sum = np.sum(sum_matrix)\n",
    "\n",
    "# Виводимо загальну суму\n",
    "print(\"\\nЗагальна сума всіх елементів матриць:\", total_sum)"
   ]
  },
  {
   "cell_type": "markdown",
   "metadata": {},
   "source": [
    "Завдання 14. Створіть матрицю розміром 3x3, заповніть її випадковими цілими числами в діапазоні від 1 до 100 та знайдіть добуток елементів матриці. "
   ]
  },
  {
   "cell_type": "code",
   "execution_count": null,
   "metadata": {},
   "outputs": [],
   "source": [
    "import numpy as np\n",
    "\n",
    "# Створюємо матрицю 3x3 з випадковими цілими числами від 1 до 100\n",
    "matrix = np.random.randint(1, 101, size=(3, 3))\n",
    "\n",
    "# Виводимо початкову матрицю\n",
    "print(\"Початкова матриця:\")\n",
    "print(matrix)\n",
    "\n",
    "# Знаходимо добуток елементів матриці\n",
    "product = np.prod(matrix)\n",
    "\n",
    "# Виводимо результат обчислення добутку\n",
    "print(\"\\nДобуток елементів матриці:\", product)"
   ]
  },
  {
   "cell_type": "markdown",
   "metadata": {},
   "source": [
    "Завдання 15. Створіть матрицю розміром 6x6, заповніть її випадковими дійсними числами в діапазоні від -2 до 2 та знайдіть вектор-стовпчик, що містить середнє арифметичне значення елементів кожного рядка матриці. "
   ]
  },
  {
   "cell_type": "code",
   "execution_count": null,
   "metadata": {},
   "outputs": [],
   "source": [
    "import numpy as np\n",
    "\n",
    "# Створюємо матрицю 3x3 з випадковими цілими числами від 1 до 100\n",
    "matrix = np.random.randint(1, 101, size=(3, 3))\n",
    "\n",
    "# Виводимо початкову матрицю\n",
    "print(\"Початкова матриця:\")\n",
    "print(matrix)\n",
    "\n",
    "# Знаходимо добуток елементів матриці\n",
    "product = np.prod(matrix)\n",
    "\n",
    "# Виводимо результат обчислення добутку\n",
    "print(\"\\nДобуток елементів матриці:\", product)"
   ]
  },
  {
   "cell_type": "markdown",
   "metadata": {},
   "source": [
    "Висновок: У цій роботі я ознайомилася з основними концепціями, що використовуються в лінійній алгебрі та машинному навчанні, і вивчила їх застосування в практиці.\n",
    "\n",
    "Основні висновки з лабораторної роботи:\n",
    "\n",
    "Матриці і вектори: Матриці та вектори є основними структурами даних у лінійній алгебрі. Матриця - це таблиця чисел, а вектор - це одновимірний масив чисел.\n",
    "\n",
    "Операції з матрицями і векторами: Я вивчила різні операції, такі як додавання, віднімання, множення матриць і векторів, а також скалярний добуток.\n",
    "\n",
    "Бібліотека NumPy: Для роботи з матрицями і векторами у Python я використовувала бібліотеку NumPy, яка надає потужні інструменти для обробки числових даних."
   ]
  },
  {
   "cell_type": "markdown",
   "metadata": {},
   "source": [
    "https://github.com/irynablinda1/machine_learning_1"
   ]
  }
 ],
 "metadata": {
  "language_info": {
   "name": "python"
  },
  "orig_nbformat": 4
 },
 "nbformat": 4,
 "nbformat_minor": 2
}
