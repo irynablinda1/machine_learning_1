{
 "cells": [
  {
   "cell_type": "markdown",
   "metadata": {},
   "source": [
    "Блінда Ірина"
   ]
  },
  {
   "cell_type": "markdown",
   "metadata": {},
   "source": [
    "Практична робота №2. Варіант 4"
   ]
  },
  {
   "cell_type": "markdown",
   "metadata": {},
   "source": [
    "Зчитайте дані з таблиці \"Середньорічна щомісячна зарплата в Україні за 1992—2022 роки\"\n",
    "https://uk.wikipedia.org/wiki/%D0%A1%D0%B5%D1%80%D0%B5%D0%B4%D0%BD%D1%8F_%D0%B7%D0%B0%D1%80%D0%BE%D0%B1%D1%96%D1%82%D0%BD%D0%B0_%D0%BF%D0%BB%D0%B0%D1%82%D0%B0_%D0%B2_%D0%A3%D0%BA%D1%80%D0%B0%D1%97%D0%BD%D1%96"
   ]
  },
  {
   "cell_type": "markdown",
   "metadata": {},
   "source": [
    "Завдання 1.\n",
    "Виведіть перші 5 рядків таблиці. "
   ]
  },
  {
   "cell_type": "code",
   "execution_count": null,
   "metadata": {},
   "outputs": [],
   "source": [
    "import pandas as pd\n",
    "\n",
    "# Зчитуємо дані з Вікіпедії\n",
    "url = \"https://uk.wikipedia.org/wiki/%D0%A1%D0%B5%D1%80%D0%B5%D0%B4%D0%BD%D1%8F_%D0%B7%D0%B0%D1%80%D0%BE%D0%B1%D1%96%D1%82%D0%BD%D0%B0_%D0%BF%D0%BB%D0%B0%D1%82%D0%B0_%D0%B2_%D0%A3%D0%BA%D1%80%D0%B0%D1%97%D0%BD%D1%96\"\n",
    "tables = pd.read_html(url)\n",
    "\n",
    "# Вибираємо потрібну таблицю (першу в списку)\n",
    "data = tables[0]\n",
    "\n",
    "# Виводимо перші 5 рядків\n",
    "print(data.head())"
   ]
  },
  {
   "cell_type": "markdown",
   "metadata": {},
   "source": [
    "Завдання 2.\n",
    "Визначте кількість рядків і стовпчиків за допомогою атрибуту shape "
   ]
  },
  {
   "cell_type": "code",
   "execution_count": null,
   "metadata": {},
   "outputs": [],
   "source": [
    "# Визначаємо кількість рядків і стовпчиків за допомогою атрибуту shape\n",
    "num_rows, num_columns = data.shape\n",
    "print(\"Кількість рядків:\", num_rows)\n",
    "print(\"Кількість стовпчиків:\", num_columns)"
   ]
  },
  {
   "cell_type": "markdown",
   "metadata": {},
   "source": [
    "Завдання 3.\n",
    "Визначте загальну кількість років та кількість місяців у даних. "
   ]
  },
  {
   "cell_type": "code",
   "execution_count": null,
   "metadata": {},
   "outputs": [],
   "source": [
    "# Отримуємо загальну кількість років та місяців\n",
    "total_years = num_rows - 1  # Вираховуємо загальну кількість років (заголовок рахуємо як рік)\n",
    "total_months = num_columns - 1  # Вираховуємо загальну кількість місяців (перший стовпчик - це рік)\n",
    "print(\"Загальна кількість років:\", total_years)\n",
    "print(\"Загальна кількість місяців:\", total_months)"
   ]
  },
  {
   "cell_type": "markdown",
   "metadata": {},
   "source": [
    "Завдання 4.\n",
    "Замінити пропущені значення  «-» в таблиці на NaN"
   ]
  },
  {
   "cell_type": "code",
   "execution_count": null,
   "metadata": {},
   "outputs": [],
   "source": [
    "# Замінюємо \"-\" на NaN\n",
    "data = data.replace(\"-\", pd.NA)"
   ]
  },
  {
   "cell_type": "markdown",
   "metadata": {},
   "source": [
    "Завдання 5.\n",
    "Визначимо типи стовпців:"
   ]
  },
  {
   "cell_type": "code",
   "execution_count": null,
   "metadata": {},
   "outputs": [],
   "source": [
    "# Визначаємо типи стовпців за допомогою dtypes\n",
    "column_types = data.dtypes\n",
    "print(\"Типи стовпців:\")\n",
    "print(column_types)"
   ]
  },
  {
   "cell_type": "markdown",
   "metadata": {},
   "source": [
    "Завдання 6.\n",
    "Видаліть передостанній і останній стовпчики ( Кількість кгхліба[20] на середнюзарплату,  Кільксть БігМаків на середню зарплату). Далі працюйте з оновленою таблицею.  "
   ]
  },
  {
   "cell_type": "code",
   "execution_count": null,
   "metadata": {},
   "outputs": [],
   "source": [
    "# Видаляємо передостанній і останній стовпчики\n",
    "data = data.iloc[:, 1:-1]"
   ]
  },
  {
   "cell_type": "markdown",
   "metadata": {},
   "source": [
    "Завдання 7. Замінити тип нечислових даних на числові. "
   ]
  },
  {
   "cell_type": "code",
   "execution_count": null,
   "metadata": {},
   "outputs": [],
   "source": [
    "# Замінюємо тип нечислових даних на числові\n",
    "data = data.apply(pd.to_numeric, errors='coerce')"
   ]
  },
  {
   "cell_type": "markdown",
   "metadata": {},
   "source": [
    "Завдання 8. \n",
    "Порахуйте частку пропусків в кожній колонці (за допомогою методів isnull , sum, len) "
   ]
  },
  {
   "cell_type": "code",
   "execution_count": null,
   "metadata": {},
   "outputs": [],
   "source": [
    "# Порахуємо частку пропусків в кожній колонці\n",
    "missing_percentages = (data.isnull().sum() / len(data)) * 100\n",
    "print(\"Частка пропусків в кожній колонці:\")\n",
    "print(missing_percentages)"
   ]
  },
  {
   "cell_type": "markdown",
   "metadata": {},
   "source": [
    "Завдання 9. \n",
    "Замініть всі пропущені значення на середні значення по (стовпцю). "
   ]
  },
  {
   "cell_type": "code",
   "execution_count": null,
   "metadata": {},
   "outputs": [],
   "source": [
    "# Замінюємо пропущені значення на середні значення по стовпцю\n",
    "data = data.fillna(data.mean())"
   ]
  },
  {
   "cell_type": "markdown",
   "metadata": {},
   "source": [
    "Завдання 10.\n",
    "Знайдіть рік з найвищою зарплатою в Україні в грн і вкажіть цю зарплату."
   ]
  },
  {
   "cell_type": "code",
   "execution_count": null,
   "metadata": {},
   "outputs": [],
   "source": [
    "# Знаходимо рік з найвищою зарплатою\n",
    "max_salary_year = data.iloc[:, 1:].max().idxmax()\n",
    "max_salary_value = data.iloc[:, 1:].max().max()\n",
    "print(\"Рік з найвищою зарплатою в Україні:\", max_salary_year)\n",
    "print(\"Зарплата в цьому році:\", max_salary_value)"
   ]
  },
  {
   "cell_type": "markdown",
   "metadata": {},
   "source": [
    "Завдання 11.\n",
    "Знайдіть рік з мінімальною  зарплатою в Україні в дол. США і вкажіть цю зарплату. "
   ]
  },
  {
   "cell_type": "code",
   "execution_count": null,
   "metadata": {},
   "outputs": [],
   "source": [
    "# Знаходимо рік з мінімальною зарплатою в доларах США\n",
    "min_salary_usd_year = data[data['Середньомісячна заробітна плата в доларах США'].notna()]['Рік'].astype(int).iloc[0]\n",
    "min_salary_usd_value = data[data['Середньомісячна заробітна плата в доларах США'].notna()]['Середньомісячна заробітна плата в доларах США'].iloc[0]\n",
    "print(\"Рік з мінімальною зарплатою в Україні в доларах США:\", min_salary_usd_year)\n",
    "print(\"Зарплата в цьому році в доларах США:\", min_salary_usd_value)"
   ]
  },
  {
   "cell_type": "markdown",
   "metadata": {},
   "source": [
    "Завдання 12.\n",
    "Виведіть роки, коли зарплата в грн була вище середньої. "
   ]
  },
  {
   "cell_type": "code",
   "execution_count": null,
   "metadata": {},
   "outputs": [],
   "source": [
    "# Визначаємо середню зарплату в гривнях\n",
    "average_salary_uah = data['Середньомісячна заробітна плата в гривнях'].mean()\n",
    "\n",
    "# Виводимо роки, коли зарплата була вище середньої\n",
    "years_above_average = data[data['Середньомісячна заробітна плата в гривнях'] > average_salary_uah]['Рік']\n",
    "print(\"Роки зі зарплатою в гривнях вище середньої:\")\n",
    "print(years_above_average)"
   ]
  },
  {
   "cell_type": "markdown",
   "metadata": {},
   "source": [
    "Завдання 13.\n",
    "Створіть графік, що відображає  зарплату в Україні з часом (за роками). "
   ]
  },
  {
   "cell_type": "code",
   "execution_count": null,
   "metadata": {},
   "outputs": [],
   "source": [
    "# Отримуємо дані за останні два роки\n",
    "last_two_years_data = data.iloc[-2:, :]\n",
    "\n",
    "# Виводимо дані за останні два роки\n",
    "print(\"Зарплата в гривнях за останні два доступних роки:\")\n",
    "print(last_two_years_data[['Рік', 'Середньомісячна заробітна плата в гривнях']])"
   ]
  },
  {
   "cell_type": "markdown",
   "metadata": {},
   "source": [
    "Завдання 14. Видаліть останній рік з таблиці та виведіть оновлену таблицю. "
   ]
  },
  {
   "cell_type": "code",
   "execution_count": null,
   "metadata": {},
   "outputs": [],
   "source": [
    "import matplotlib.pyplot as plt\n",
    "\n",
    "# Відокремлюємо рік і зарплату в гривнях\n",
    "years = data['Рік']\n",
    "salary_uah = data['Середньомісячна заробітна плата в гривнях']\n",
    "\n",
    "# Побудова графіку\n",
    "plt.figure(figsize=(12, 6))\n",
    "plt.plot(years, salary_uah, marker='o', linestyle='-')\n",
    "plt.title('Середньомісячна заробітна плата в Україні за роками')\n",
    "plt.xlabel('Рік')\n",
    "plt.ylabel('Зарплата в гривнях')\n",
    "plt.grid(True)\n",
    "plt.show()"
   ]
  },
  {
   "cell_type": "markdown",
   "metadata": {},
   "source": [
    "Завдання 15. Побудуйте графік, що відображає середню зарплату в Україні в розрізі років без останнього року. "
   ]
  },
  {
   "cell_type": "code",
   "execution_count": null,
   "metadata": {},
   "outputs": [],
   "source": [
    "# Видаляємо останній рік з таблиці\n",
    "data = data[:-1]\n",
    "print(\"Оновлена таблиця без останнього року:\")\n",
    "print(data)"
   ]
  },
  {
   "cell_type": "markdown",
   "metadata": {},
   "source": [
    "Завдання 16. Обчисліть зарплату за останні два роки і порівняйте її із зарплатою за останні 5 років. Вкажіть, чи є різниця, і в якому напрямку. "
   ]
  },
  {
   "cell_type": "code",
   "execution_count": null,
   "metadata": {},
   "outputs": [],
   "source": [
    "last_two_years_salary = data.iloc[-2:]['Середньомісячна заробітна плата в гривнях'].sum()\n",
    "last_five_years_salary = data.iloc[-5:]['Середньомісячна заробітна плата в гривнях'].sum()\n",
    "if last_two_years_salary > last_five_years_salary:\n",
    "    difference = last_two_years_salary - last_five_years_salary\n",
    "    print(\"\\nЗарплата за останні два роки вища на\", difference, \"гривень.\")\n",
    "elif last_two_years_salary < last_five_years_salary:\n",
    "    difference = last_five_years_salary - last_two_years_salary\n",
    "    print(\"\\nЗарплата за останні два роки нижча на\", difference, \"гривень.\")\n",
    "else:\n",
    "    print(\"\\nЗарплата за останні два роки і за останні п'ять років однакова.\")"
   ]
  },
  {
   "cell_type": "markdown",
   "metadata": {},
   "source": [
    "Висновок:\n",
    "У даній лабораторній роботі я провела аналіз даних про середньомісячну заробітну плату в Україні за допомогою бібліотеки pandas та побудувала графіки, що відображають зміни в зарплаті з часом.\n",
    "Також я знайшли рік з найвищою та найнижчою зарплатою в різних валютах та визначила роки, коли зарплата була вище середньої."
   ]
  },
  {
   "cell_type": "markdown",
   "metadata": {},
   "source": [
    "https://github.com/irynablinda1/machine_learning_1"
   ]
  }
 ],
 "metadata": {
  "language_info": {
   "name": "python"
  },
  "orig_nbformat": 4
 },
 "nbformat": 4,
 "nbformat_minor": 2
}
